{
 "cells": [
  {
   "cell_type": "markdown",
   "metadata": {},
   "source": [
    "# Task 1: Exponentiation"
   ]
  },
  {
   "cell_type": "code",
   "execution_count": null,
   "metadata": {},
   "outputs": [],
   "source": [
    "from nt375_task1 import output, expo\n",
    "\n",
    "m = 19\n",
    "e = 7\n",
    "N = 30\n",
    "\n",
    "output(expo(m,e,N))"
   ]
  },
  {
   "cell_type": "markdown",
   "metadata": {},
   "source": [
    "# Task 2: Extended Euclidean algorithm (EEA)."
   ]
  },
  {
   "cell_type": "code",
   "execution_count": null,
   "metadata": {},
   "outputs": [],
   "source": [
    "from nt375_task2 import output, EEA\n",
    "\n",
    "a = 22\n",
    "b = 7\n",
    "\n",
    "g, x, y = EEA(a,b)\n",
    "\n",
    "output(g, x, y)"
   ]
  },
  {
   "cell_type": "markdown",
   "metadata": {},
   "source": [
    "# Task 3: Finding a prime number."
   ]
  },
  {
   "cell_type": "code",
   "execution_count": null,
   "metadata": {},
   "outputs": [],
   "source": [
    "from nt375_task3 import output, find_a_prime_num\n",
    "\n",
    "n = 10\n",
    "\n",
    "output(n, find_a_prime_num(n))"
   ]
  },
  {
   "cell_type": "markdown",
   "metadata": {},
   "source": [
    "# Task 4: \"Naive\" RSA encryption system implementation."
   ]
  },
  {
   "cell_type": "markdown",
   "metadata": {},
   "source": [
    "## Step 1: Setup"
   ]
  },
  {
   "cell_type": "code",
   "execution_count": null,
   "metadata": {},
   "outputs": [
    {
     "ename": "ValueError",
     "evalue": "empty range in randrange(2, 2)",
     "output_type": "error",
     "traceback": [
      "\u001b[0;31m---------------------------------------------------------------------------\u001b[0m",
      "\u001b[0;31mValueError\u001b[0m                                Traceback (most recent call last)",
      "Cell \u001b[0;32mIn[4], line 5\u001b[0m\n\u001b[1;32m      1\u001b[0m \u001b[38;5;28;01mfrom\u001b[39;00m \u001b[38;5;21;01mnt375_task4\u001b[39;00m \u001b[38;5;28;01mimport\u001b[39;00m setup, print_setup\n\u001b[1;32m      3\u001b[0m v \u001b[38;5;241m=\u001b[39m \u001b[38;5;241m5\u001b[39m\n\u001b[0;32m----> 5\u001b[0m p, q, N, e, d \u001b[38;5;241m=\u001b[39m setup(v)\n\u001b[1;32m      6\u001b[0m print_setup(p, q, N, e, d)\n",
      "File \u001b[0;32m~/Dev/master/comp8760_com_sec/assignment_1/nt375/nt375_task4.py:42\u001b[0m, in \u001b[0;36msetup\u001b[0;34m(v)\u001b[0m\n\u001b[1;32m     39\u001b[0m \u001b[38;5;66;03m# p cannot be the same with q\u001b[39;00m\n\u001b[1;32m     40\u001b[0m \u001b[38;5;28;01mwhile\u001b[39;00m p \u001b[38;5;241m==\u001b[39m q:\n\u001b[1;32m     41\u001b[0m   \u001b[38;5;66;03m# q is the second prime generated (random prime number) (ν/2-bit prime)\u001b[39;00m\n\u001b[0;32m---> 42\u001b[0m   q \u001b[38;5;241m=\u001b[39m generate_prime(v\u001b[38;5;241m/\u001b[39m\u001b[38;5;241m/\u001b[39m\u001b[38;5;241m2\u001b[39m)\n\u001b[1;32m     44\u001b[0m \u001b[38;5;66;03m# N is the product of p and q\u001b[39;00m\n\u001b[1;32m     45\u001b[0m N \u001b[38;5;241m=\u001b[39m p \u001b[38;5;241m*\u001b[39m q\n",
      "File \u001b[0;32m~/Dev/master/comp8760_com_sec/assignment_1/nt375/nt375_task4.py:21\u001b[0m, in \u001b[0;36mgenerate_prime\u001b[0;34m(n)\u001b[0m\n\u001b[1;32m     19\u001b[0m \u001b[38;5;28;01mwhile\u001b[39;00m \u001b[38;5;28;01mTrue\u001b[39;00m:\n\u001b[1;32m     20\u001b[0m     p \u001b[38;5;241m=\u001b[39m random\u001b[38;5;241m.\u001b[39mrandint(\u001b[38;5;241m2\u001b[39m\u001b[38;5;241m*\u001b[39m\u001b[38;5;241m*\u001b[39m(n\u001b[38;5;241m-\u001b[39m\u001b[38;5;241m1\u001b[39m), \u001b[38;5;241m2\u001b[39m\u001b[38;5;241m*\u001b[39m\u001b[38;5;241m*\u001b[39mn \u001b[38;5;241m-\u001b[39m \u001b[38;5;241m1\u001b[39m) \u001b[38;5;66;03m# random number between 2^(n-1) and 2^n - 1\u001b[39;00m\n\u001b[0;32m---> 21\u001b[0m     \u001b[38;5;28;01mif\u001b[39;00m is_prime_2_step(p): \u001b[38;5;66;03m# the random number, if it is prime, send it out\u001b[39;00m\n\u001b[1;32m     22\u001b[0m         \u001b[38;5;28;01mreturn\u001b[39;00m p\n",
      "File \u001b[0;32m~/Dev/master/comp8760_com_sec/assignment_1/nt375/nt375_task3.py:53\u001b[0m, in \u001b[0;36mis_prime_2_step\u001b[0;34m(n, k)\u001b[0m\n\u001b[1;32m     50\u001b[0m   \u001b[38;5;28;01mreturn\u001b[39;00m \u001b[38;5;28;01mFalse\u001b[39;00m \u001b[38;5;66;03m# if there is a partial divisor, it is (probably) prime\u001b[39;00m\n\u001b[1;32m     52\u001b[0m \u001b[38;5;66;03m# step2: Check Fermat's primality testing algorithm to confirm if it is prime, in the condition that it passes step 1\u001b[39;00m\n\u001b[0;32m---> 53\u001b[0m \u001b[38;5;28;01mreturn\u001b[39;00m is_prime_by_fermat_primality_test(n, k)\n",
      "File \u001b[0;32m~/Dev/master/comp8760_com_sec/assignment_1/nt375/nt375_task3.py:40\u001b[0m, in \u001b[0;36mis_prime_by_fermat_primality_test\u001b[0;34m(n, k)\u001b[0m\n\u001b[1;32m     38\u001b[0m \u001b[38;5;28;01mdef\u001b[39;00m \u001b[38;5;21mis_prime_by_fermat_primality_test\u001b[39m(n: \u001b[38;5;28mint\u001b[39m, k: \u001b[38;5;28mint\u001b[39m \u001b[38;5;241m=\u001b[39m \u001b[38;5;241m50\u001b[39m) \u001b[38;5;241m-\u001b[39m\u001b[38;5;241m>\u001b[39m \u001b[38;5;28mbool\u001b[39m:\n\u001b[1;32m     39\u001b[0m   \u001b[38;5;28;01mfor\u001b[39;00m _ \u001b[38;5;129;01min\u001b[39;00m \u001b[38;5;28mrange\u001b[39m(k): \u001b[38;5;66;03m# check for k times\u001b[39;00m\n\u001b[0;32m---> 40\u001b[0m     a \u001b[38;5;241m=\u001b[39m random\u001b[38;5;241m.\u001b[39mrandint(\u001b[38;5;241m2\u001b[39m, n \u001b[38;5;241m-\u001b[39m \u001b[38;5;241m1\u001b[39m) \u001b[38;5;66;03m# random number\u001b[39;00m\n\u001b[1;32m     41\u001b[0m     \u001b[38;5;28;01mif\u001b[39;00m expo(a, n\u001b[38;5;241m-\u001b[39m\u001b[38;5;241m1\u001b[39m, n) \u001b[38;5;241m!=\u001b[39m \u001b[38;5;241m1\u001b[39m: \u001b[38;5;66;03m# if a is not prime a^(n-1) mod n doesn't equal 1\u001b[39;00m\n\u001b[1;32m     42\u001b[0m       \u001b[38;5;28;01mreturn\u001b[39;00m \u001b[38;5;28;01mFalse\u001b[39;00m\n",
      "File \u001b[0;32m/usr/local/anaconda3/lib/python3.12/random.py:336\u001b[0m, in \u001b[0;36mRandom.randint\u001b[0;34m(self, a, b)\u001b[0m\n\u001b[1;32m    332\u001b[0m \u001b[38;5;28;01mdef\u001b[39;00m \u001b[38;5;21mrandint\u001b[39m(\u001b[38;5;28mself\u001b[39m, a, b):\n\u001b[1;32m    333\u001b[0m \u001b[38;5;250m    \u001b[39m\u001b[38;5;124;03m\"\"\"Return random integer in range [a, b], including both end points.\u001b[39;00m\n\u001b[1;32m    334\u001b[0m \u001b[38;5;124;03m    \"\"\"\u001b[39;00m\n\u001b[0;32m--> 336\u001b[0m     \u001b[38;5;28;01mreturn\u001b[39;00m \u001b[38;5;28mself\u001b[39m\u001b[38;5;241m.\u001b[39mrandrange(a, b\u001b[38;5;241m+\u001b[39m\u001b[38;5;241m1\u001b[39m)\n",
      "File \u001b[0;32m/usr/local/anaconda3/lib/python3.12/random.py:319\u001b[0m, in \u001b[0;36mRandom.randrange\u001b[0;34m(self, start, stop, step)\u001b[0m\n\u001b[1;32m    317\u001b[0m     \u001b[38;5;28;01mif\u001b[39;00m width \u001b[38;5;241m>\u001b[39m \u001b[38;5;241m0\u001b[39m:\n\u001b[1;32m    318\u001b[0m         \u001b[38;5;28;01mreturn\u001b[39;00m istart \u001b[38;5;241m+\u001b[39m \u001b[38;5;28mself\u001b[39m\u001b[38;5;241m.\u001b[39m_randbelow(width)\n\u001b[0;32m--> 319\u001b[0m     \u001b[38;5;28;01mraise\u001b[39;00m \u001b[38;5;167;01mValueError\u001b[39;00m(\u001b[38;5;124mf\u001b[39m\u001b[38;5;124m\"\u001b[39m\u001b[38;5;124mempty range in randrange(\u001b[39m\u001b[38;5;132;01m{\u001b[39;00mstart\u001b[38;5;132;01m}\u001b[39;00m\u001b[38;5;124m, \u001b[39m\u001b[38;5;132;01m{\u001b[39;00mstop\u001b[38;5;132;01m}\u001b[39;00m\u001b[38;5;124m)\u001b[39m\u001b[38;5;124m\"\u001b[39m)\n\u001b[1;32m    321\u001b[0m \u001b[38;5;66;03m# Non-unit step argument supplied.\u001b[39;00m\n\u001b[1;32m    322\u001b[0m \u001b[38;5;28;01mif\u001b[39;00m istep \u001b[38;5;241m>\u001b[39m \u001b[38;5;241m0\u001b[39m:\n",
      "\u001b[0;31mValueError\u001b[0m: empty range in randrange(2, 2)"
     ]
    }
   ],
   "source": [
    "from nt375_task4 import setup, print_setup\n",
    "\n",
    "v = 6\n",
    "\n",
    "p, q, N, e, d = setup(v)\n",
    "print_setup(p, q, N, e, d)"
   ]
  },
  {
   "cell_type": "markdown",
   "metadata": {},
   "source": [
    "## Step 2: Encryption"
   ]
  },
  {
   "cell_type": "code",
   "execution_count": null,
   "metadata": {},
   "outputs": [],
   "source": [
    "from nt375_task4 import encrypt_decrypt\n",
    "\n",
    "m = 50505\n",
    "c = encrypt_decrypt(N, e, m)"
   ]
  },
  {
   "cell_type": "markdown",
   "metadata": {},
   "source": [
    "## Step 3: Decryption"
   ]
  },
  {
   "cell_type": "code",
   "execution_count": null,
   "metadata": {},
   "outputs": [],
   "source": [
    "from nt375_task4 import encrypt_decrypt\n",
    "\n",
    "encrypt_decrypt(N, d, c, False)"
   ]
  },
  {
   "cell_type": "markdown",
   "metadata": {},
   "source": [
    "# Task 5: IND-CPA Security"
   ]
  },
  {
   "cell_type": "markdown",
   "metadata": {},
   "source": [
    "## Snapshot\n",
    "\n",
    "![Demo of Task 4](nt375_task5.jpg)"
   ]
  },
  {
   "cell_type": "markdown",
   "metadata": {},
   "source": [
    "# Task 6: IND-CCA security"
   ]
  },
  {
   "cell_type": "markdown",
   "metadata": {},
   "source": [
    "## The modified ciphertext and the inverse of 2"
   ]
  },
  {
   "cell_type": "code",
   "execution_count": null,
   "metadata": {},
   "outputs": [],
   "source": [
    "from nt375_task6 import find_modified_c_and_inverse_of_2\n",
    "\n",
    "modified_c, inverse_of_2 = find_modified_c_and_inverse_of_2(c, e, N)"
   ]
  },
  {
   "cell_type": "markdown",
   "metadata": {},
   "source": [
    "## Decryption"
   ]
  },
  {
   "cell_type": "code",
   "execution_count": null,
   "metadata": {},
   "outputs": [],
   "source": [
    "from nt375_task6 import modified_decryption\n",
    "\n",
    "modified_m = encrypt_decrypt(N, d, modified_c, False)\n",
    "\n",
    "modified_decryption(N, inverse_of_2, modified_m)"
   ]
  },
  {
   "cell_type": "markdown",
   "metadata": {},
   "source": [
    "## Snapshot"
   ]
  },
  {
   "cell_type": "markdown",
   "metadata": {},
   "source": [
    "![Demo of Task 4 and Task 6](task4_n_task6.jpg)"
   ]
  },
  {
   "cell_type": "code",
   "execution_count": null,
   "metadata": {},
   "outputs": [],
   "source": [
    "from nt375_task4 import modular_inverse\n",
    "\n",
    "p = 5\n",
    "q = 7\n",
    "e = 11\n",
    "M = (p - 1) * (q - 1)\n",
    "d = modular_inverse(e, M)\n",
    "print(d)"
   ]
  }
 ],
 "metadata": {
  "kernelspec": {
   "display_name": "base",
   "language": "python",
   "name": "python3"
  },
  "language_info": {
   "codemirror_mode": {
    "name": "ipython",
    "version": 3
   },
   "file_extension": ".py",
   "mimetype": "text/x-python",
   "name": "python",
   "nbconvert_exporter": "python",
   "pygments_lexer": "ipython3",
   "version": "3.12.2"
  }
 },
 "nbformat": 4,
 "nbformat_minor": 2
}
