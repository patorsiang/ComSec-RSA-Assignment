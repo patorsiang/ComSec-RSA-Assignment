{
 "cells": [
  {
   "cell_type": "markdown",
   "metadata": {},
   "source": [
    "# Task 1: Exponentiation"
   ]
  },
  {
   "cell_type": "code",
   "execution_count": 3,
   "metadata": {},
   "outputs": [
    {
     "name": "stdout",
     "output_type": "stream",
     "text": [
      "-------------------------------------\n",
      "The value of m ∧ e mode N is 22\n",
      "-------------------------------------\n"
     ]
    }
   ],
   "source": [
    "from nt375_task1 import output, expo\n",
    "\n",
    "m = 15\n",
    "e = 30\n",
    "N = 29\n",
    "\n",
    "output(expo(m,e,N))"
   ]
  },
  {
   "cell_type": "markdown",
   "metadata": {},
   "source": [
    "# Task 2: Extended Euclidean algorithm (EEA)."
   ]
  },
  {
   "cell_type": "code",
   "execution_count": 5,
   "metadata": {},
   "outputs": [
    {
     "name": "stdout",
     "output_type": "stream",
     "text": [
      "--------------------------------\n",
      "The values of (r,s,t) in the steps of EEA are:\n",
      "(1, 1, -3)\n",
      "(0, -7, 22)\n",
      "--------------------------------\n",
      "The values of (g,x,y) are: (1, 1, -3)\n",
      "--------------------------------\n"
     ]
    }
   ],
   "source": [
    "from nt375_task2 import output, EEA\n",
    "\n",
    "a = 22\n",
    "b = 7\n",
    "\n",
    "g, x, y = EEA(a,b)\n",
    "\n",
    "output(g, x, y)"
   ]
  },
  {
   "cell_type": "markdown",
   "metadata": {},
   "source": [
    "# Task 3: Finding a prime number."
   ]
  },
  {
   "cell_type": "code",
   "execution_count": 1,
   "metadata": {},
   "outputs": [
    {
     "name": "stdout",
     "output_type": "stream",
     "text": [
      "--------------------------------\n",
      "The 10-bit prime is p = 521\n",
      "--------------------------------\n"
     ]
    }
   ],
   "source": [
    "from nt375_task3 import output, find_a_prime_num\n",
    "\n",
    "n = 10\n",
    "\n",
    "output(n, find_a_prime_num(n))"
   ]
  },
  {
   "cell_type": "markdown",
   "metadata": {},
   "source": [
    "# Task 4: \"Naive\" RSA encryption system implementation."
   ]
  },
  {
   "cell_type": "code",
   "execution_count": null,
   "metadata": {},
   "outputs": [],
   "source": [
    "nu = 20\n",
    "\n"
   ]
  }
 ],
 "metadata": {
  "kernelspec": {
   "display_name": "base",
   "language": "python",
   "name": "python3"
  },
  "language_info": {
   "codemirror_mode": {
    "name": "ipython",
    "version": 3
   },
   "file_extension": ".py",
   "mimetype": "text/x-python",
   "name": "python",
   "nbconvert_exporter": "python",
   "pygments_lexer": "ipython3",
   "version": "3.12.2"
  }
 },
 "nbformat": 4,
 "nbformat_minor": 2
}
